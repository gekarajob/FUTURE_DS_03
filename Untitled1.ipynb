{
 "cells": [
  {
   "cell_type": "code",
   "execution_count": 13,
   "id": "8714297f-161e-4f6c-b2fa-ed0ec729d7e9",
   "metadata": {},
   "outputs": [
    {
     "data": {
      "application/vnd.jupyter.widget-view+json": {
       "model_id": "cdc15a0bfbae4d08b15d783d38e64379",
       "version_major": 2,
       "version_minor": 0
      },
      "text/plain": [
       "VBox(children=(HBox(children=(Dropdown(description='Gender:', options=('Male', 'Female'), value='Male'), Dropd…"
      ]
     },
     "metadata": {},
     "output_type": "display_data"
    },
    {
     "data": {
      "application/vnd.jupyter.widget-view+json": {
       "model_id": "04cf0cf8c3ad4fbe84e5fb87e5e4c47d",
       "version_major": 2,
       "version_minor": 0
      },
      "text/plain": [
       "Output()"
      ]
     },
     "metadata": {},
     "output_type": "display_data"
    }
   ],
   "source": [
    "\n",
    "#from sklearn.linear_model import LogisticRegression\n",
    "from ipywidgets import widgets, VBox, HBox, Button, Output, Layout\n",
    "from IPython.display import display, clear_output\n",
    "\n",
    "# Load the trained model\n",
    "model = joblib.load('loan_approval_model.pkl')  # Replace with your model's filename\n",
    "\n",
    "# Preprocessing function\n",
    "def preprocess_data(gender, married, dependents, education, self_employed, loan_amount, loan_amount_term, credit_history, property_area, total_income):\n",
    "    # Encode categorical features\n",
    "    gender_map = {'Male': 1, 'Female': 0}\n",
    "    married_map = {'Yes': 1, 'No': 0}\n",
    "    education_map = {'Graduate': 1, 'Not Graduate': 0}\n",
    "    self_employed_map = {'Yes': 1, 'No': 0}\n",
    "    property_area_map = {'Urban': 0, 'Rural': 1, 'Semiurban': 2}\n",
    "\n",
    "    # Map inputs to numerical values\n",
    "    gender_encoded = gender_map[gender]\n",
    "    married_encoded = married_map[married]\n",
    "    education_encoded = education_map[education]\n",
    "    self_employed_encoded = self_employed_map[self_employed]\n",
    "    property_area_encoded = property_area_map[property_area]\n",
    "\n",
    "    # Prepare input array\n",
    "    return np.array([[gender_encoded, married_encoded, dependents, education_encoded, \n",
    "                      self_employed_encoded, loan_amount, loan_amount_term, credit_history, \n",
    "                      property_area_encoded, total_income]])\n",
    "\n",
    "# Define input widgets\n",
    "gender = widgets.Dropdown(options=['Male', 'Female'], description='Gender:')\n",
    "married = widgets.Dropdown(options=['Yes', 'No'], description='Married:')\n",
    "dependents = widgets.IntSlider(min=0, max=3, step=1, description='Dependents:')\n",
    "education = widgets.Dropdown(options=['Graduate', 'Not Graduate'], description='Education:')\n",
    "self_employed = widgets.Dropdown(options=['Yes', 'No'], description='Self Employed:')\n",
    "loan_amount = widgets.FloatText(description='Loan Amount:')\n",
    "loan_amount_term = widgets.FloatText(description='Loan Term:')\n",
    "credit_history = widgets.Dropdown(options=[1.0, 0.0], description='Credit History:')\n",
    "property_area = widgets.Dropdown(options=['Urban', 'Rural', 'Semiurban'], description='Property Area:')\n",
    "total_income = widgets.FloatText(description='Total Income:')\n",
    "\n",
    "# Output widget\n",
    "output = Output()\n",
    "\n",
    "# Predict function\n",
    "def predict_loan(button):\n",
    "    with output:\n",
    "        clear_output()  # Clear previous output\n",
    "        try:\n",
    "            # Preprocess user inputs\n",
    "            data = preprocess_data(\n",
    "                gender.value,\n",
    "                married.value,\n",
    "                dependents.value,\n",
    "                education.value,\n",
    "                self_employed.value,\n",
    "                float(loan_amount.value),\n",
    "                float(loan_amount_term.value),\n",
    "                float(credit_history.value),\n",
    "                property_area.value,\n",
    "                float(total_income.value)\n",
    "            )\n",
    "            # Make prediction\n",
    "            prediction = model.predict(data)\n",
    "            result = \"Approved\" if prediction[0] == 1 else \"Not Approved\"\n",
    "            print(f\"Prediction: Loan will be {result}\")\n",
    "        except Exception as e:\n",
    "            print(f\"Error: {str(e)}\")\n",
    "\n",
    "# Predict button\n",
    "predict_button = Button(description=\"Predict\", button_style='success')\n",
    "predict_button.on_click(predict_loan)\n",
    "\n",
    "# Display GUI\n",
    "form_items = [\n",
    "    HBox([gender, married]),\n",
    "    HBox([dependents, education, self_employed]),\n",
    "    HBox([loan_amount, loan_amount_term, credit_history]),\n",
    "    HBox([property_area, total_income]),\n",
    "    predict_button\n",
    "]\n",
    "form = VBox(form_items, layout=Layout(padding='10px', border='solid 1px gray', width='50%'))\n",
    "\n",
    "display(form, output)\n"
   ]
  },
  {
   "cell_type": "code",
   "execution_count": null,
   "id": "530d60a8-6712-4f90-8844-616e30ffc049",
   "metadata": {},
   "outputs": [],
   "source": []
  }
 ],
 "metadata": {
  "kernelspec": {
   "display_name": "Python 3 (ipykernel)",
   "language": "python",
   "name": "python3"
  },
  "language_info": {
   "codemirror_mode": {
    "name": "ipython",
    "version": 3
   },
   "file_extension": ".py",
   "mimetype": "text/x-python",
   "name": "python",
   "nbconvert_exporter": "python",
   "pygments_lexer": "ipython3",
   "version": "3.12.5"
  }
 },
 "nbformat": 4,
 "nbformat_minor": 5
}
